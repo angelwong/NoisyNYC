{
 "metadata": {
  "name": "",
  "signature": "sha256:c166b883f454436ba3ec0364fe86f50dc4b527828cbdc43c50f4f206d1d461d0"
 },
 "nbformat": 3,
 "nbformat_minor": 0,
 "worksheets": [
  {
   "cells": [
    {
     "cell_type": "heading",
     "level": 1,
     "metadata": {},
     "source": [
      "Noisy NYC Nightlife"
     ]
    },
    {
     "cell_type": "heading",
     "level": 3,
     "metadata": {},
     "source": [
      "There's no place like New York City for nightlife, to the delight of the clubbing night-owl and to the chagrin of the sleeping local. "
     ]
    },
    {
     "cell_type": "markdown",
     "metadata": {},
     "source": [
      "NYC Open Data provides a wealth of information on all complaints dialed in to the 311 Service Requests line, including the date, time, location, and type of each \"Noise\" complaint. This data was pulled for a period of time spanning from 2010 through to November 1, 2014. (*Dataset also included an insignficant number of data points from 2008 and 2009.)\n",
      "\n",
      "This dataset, encompassing over 171000 noise complaints, can be used to find out when and where New York City keeps it turnt up."
     ]
    },
    {
     "cell_type": "code",
     "collapsed": false,
     "input": [
      "import pandas as pd\n",
      "import numpy as np\n",
      "import matplotlib.pyplot as plt\n",
      "%matplotlib inline\n",
      "\n",
      "csv = pd.read_csv('311_Service_Requests.csv')\n",
      "csv.columns = ['key', 'date', 'type', 'descriptor', 'type', 'zip', 'city']\n",
      "\n",
      "#sample filtered dataset\n",
      "csv.head()"
     ],
     "language": "python",
     "metadata": {},
     "outputs": [
      {
       "html": [
        "<div style=\"max-height:1000px;max-width:1500px;overflow:auto;\">\n",
        "<table border=\"1\" class=\"dataframe\">\n",
        "  <thead>\n",
        "    <tr style=\"text-align: right;\">\n",
        "      <th></th>\n",
        "      <th>key</th>\n",
        "      <th>date</th>\n",
        "      <th>type</th>\n",
        "      <th>descriptor</th>\n",
        "      <th>type</th>\n",
        "      <th>zip</th>\n",
        "      <th>city</th>\n",
        "    </tr>\n",
        "  </thead>\n",
        "  <tbody>\n",
        "    <tr>\n",
        "      <th>0</th>\n",
        "      <td> 29188820</td>\n",
        "      <td> 11/01/2014 02:16:30 AM</td>\n",
        "      <td> Noise - House of Worship</td>\n",
        "      <td> Loud Music/Party</td>\n",
        "      <td>    House of Worship</td>\n",
        "      <td> 11217</td>\n",
        "      <td> BROOKLYN</td>\n",
        "    </tr>\n",
        "    <tr>\n",
        "      <th>1</th>\n",
        "      <td> 29194657</td>\n",
        "      <td> 11/01/2014 02:15:39 AM</td>\n",
        "      <td>  Noise - Street/Sidewalk</td>\n",
        "      <td> Loud Music/Party</td>\n",
        "      <td>     Street/Sidewalk</td>\n",
        "      <td> 10451</td>\n",
        "      <td>    BRONX</td>\n",
        "    </tr>\n",
        "    <tr>\n",
        "      <th>2</th>\n",
        "      <td> 29190781</td>\n",
        "      <td> 11/01/2014 02:11:42 AM</td>\n",
        "      <td>       Noise - Commercial</td>\n",
        "      <td> Loud Music/Party</td>\n",
        "      <td> Club/Bar/Restaurant</td>\n",
        "      <td> 10024</td>\n",
        "      <td> NEW YORK</td>\n",
        "    </tr>\n",
        "    <tr>\n",
        "      <th>3</th>\n",
        "      <td> 29190760</td>\n",
        "      <td> 11/01/2014 02:09:07 AM</td>\n",
        "      <td> Noise - House of Worship</td>\n",
        "      <td> Loud Music/Party</td>\n",
        "      <td>    House of Worship</td>\n",
        "      <td> 11217</td>\n",
        "      <td> BROOKLYN</td>\n",
        "    </tr>\n",
        "    <tr>\n",
        "      <th>4</th>\n",
        "      <td> 29189785</td>\n",
        "      <td> 11/01/2014 02:06:51 AM</td>\n",
        "      <td>  Noise - Street/Sidewalk</td>\n",
        "      <td> Loud Music/Party</td>\n",
        "      <td>     Street/Sidewalk</td>\n",
        "      <td> 11220</td>\n",
        "      <td> BROOKLYN</td>\n",
        "    </tr>\n",
        "  </tbody>\n",
        "</table>\n",
        "<p>5 rows \u00d7 7 columns</p>\n",
        "</div>"
       ],
       "metadata": {},
       "output_type": "pyout",
       "prompt_number": 10,
       "text": [
        "        key                    date                      type  \\\n",
        "0  29188820  11/01/2014 02:16:30 AM  Noise - House of Worship   \n",
        "1  29194657  11/01/2014 02:15:39 AM   Noise - Street/Sidewalk   \n",
        "2  29190781  11/01/2014 02:11:42 AM        Noise - Commercial   \n",
        "3  29190760  11/01/2014 02:09:07 AM  Noise - House of Worship   \n",
        "4  29189785  11/01/2014 02:06:51 AM   Noise - Street/Sidewalk   \n",
        "\n",
        "         descriptor                 type    zip      city  \n",
        "0  Loud Music/Party     House of Worship  11217  BROOKLYN  \n",
        "1  Loud Music/Party      Street/Sidewalk  10451     BRONX  \n",
        "2  Loud Music/Party  Club/Bar/Restaurant  10024  NEW YORK  \n",
        "3  Loud Music/Party     House of Worship  11217  BROOKLYN  \n",
        "4  Loud Music/Party      Street/Sidewalk  11220  BROOKLYN  \n",
        "\n",
        "[5 rows x 7 columns]"
       ]
      }
     ],
     "prompt_number": 10
    },
    {
     "cell_type": "heading",
     "level": 3,
     "metadata": {},
     "source": [
      "<hr>Creatures of the Night"
     ]
    },
    {
     "cell_type": "heading",
     "level": 6,
     "metadata": {},
     "source": [
      "\n",
      "\n",
      "At what time of day are noise complaints most prevalent?"
     ]
    },
    {
     "cell_type": "markdown",
     "metadata": {},
     "source": [
      "The timestamps of each noise complaint was aggregated every hour in a 24-hour day. As expected, the noise complaints increase over the course of the day into night time. Most noise complaints occurred between 10PM and 2AM, peaking at 11PM to 12AM. "
     ]
    },
    {
     "cell_type": "code",
     "collapsed": false,
     "input": [
      "date_time = csv['date']\n",
      "times = pd.to_datetime(date_time)\n",
      "\n",
      "hours = [times[i].hour for i in range(times.count())]\n",
      "s_hours = pd.Series(hours)\n",
      "hours_vc = s_hours.value_counts()\n",
      "print hours_vc.head()\n",
      "hours_vc = hours_vc.sort_index()"
     ],
     "language": "python",
     "metadata": {},
     "outputs": [
      {
       "output_type": "stream",
       "stream": "stdout",
       "text": [
        "23    24200\n",
        "0     20241\n",
        "22    19446\n",
        "1     16918\n",
        "21    13253\n",
        "dtype: int64\n"
       ]
      }
     ],
     "prompt_number": 5
    },
    {
     "cell_type": "code",
     "collapsed": false,
     "input": [
      "#plots hours by time of night\n",
      "index = np.arange(24)\n",
      "fig, ax = plt.subplots()\n",
      "rects = plt.bar(index, hours_vc.values)\n",
      "\n",
      "ax.set_title(\"Frequency of Noise Complaints by Time of Night\")\n",
      "ax.set_xticklabels( ('12AM', '5AM', '10AM', '3PM', '8PM', '12AM') )\n",
      "ax.set_ylabel('Frequency')\n",
      "ax.set_xlabel('Hour in the Day')\n",
      "plt.show()\n"
     ],
     "language": "python",
     "metadata": {},
     "outputs": [
      {
       "metadata": {},
       "output_type": "display_data",
       "png": "[encoded data removed]",
       "text": [
        "<matplotlib.figure.Figure at 0xd0a9ac8>"
       ]
      }
     ],
     "prompt_number": 7
    },
    {
     "cell_type": "heading",
     "level": 3,
     "metadata": {},
     "source": [
      "<hr>Working for the Weekend"
     ]
    },
    {
     "cell_type": "heading",
     "level": 6,
     "metadata": {},
     "source": [
      "At what day of the week, when are noise complaints most prevalent?"
     ]
    },
    {
     "cell_type": "markdown",
     "metadata": {},
     "source": [
      "New Yorkers party every day of the week, but they go particularly wild on Fridays and Saturdays."
     ]
    },
    {
     "cell_type": "code",
     "collapsed": false,
     "input": [
      "weekdays = [times[i].weekday() for i in range(times.count())]\n",
      "s_weekdays = pd.Series(weekdays)\n",
      "weekdays_vc = s_weekdays.value_counts().sort_index()\n",
      "\n",
      "index = np.arange(7)\n",
      "fig, ax = plt.subplots()\n",
      "rects = plt.bar(index, weekdays_vc.values)\n",
      "\n",
      "xticks_pos = [0.5*patch.get_width() + patch.get_xy()[0] for patch in rects]\n",
      "\n",
      "ax.set_title(\"Frequency of Noise Complaints by Day of Week\")\n",
      "ax.set_xticks(xticks_pos)\n",
      "ax.set_xticklabels( ('Sun','Mon', 'Tues', 'Wed', 'Thurs', 'Fri', 'Sat') )\n",
      "ax.set_ylabel('Frequency')\n",
      "ax.set_xlabel('Day of the Week')\n",
      "plt.show()\n"
     ],
     "language": "python",
     "metadata": {},
     "outputs": [
      {
       "metadata": {},
       "output_type": "display_data",
       "png": "[encoded data removed]",
       "text": [
        "<matplotlib.figure.Figure at 0x114f0ef0>"
       ]
      }
     ],
     "prompt_number": 73
    },
    {
     "cell_type": "heading",
     "level": 3,
     "metadata": {},
     "source": [
      "<hr>\n",
      "To The Five Boroughs"
     ]
    },
    {
     "cell_type": "markdown",
     "metadata": {},
     "source": [
      "Moving on to location, our dataset has conveniently provided us with the location of each complaint. The top party borough should come as no surprise -- Manhattan tops the list, followed by Brooklyn, Queens, Bronx, and lastly Staten Island.\n",
      "\n",
      "The last column provides a measure for relative noise complaints in relation to the population actually living in the borough. Of course, Manhattan's noise complaints will be skewed by the weekend onslaught of party animals from the outer boroughs and out-of-town."
     ]
    },
    {
     "cell_type": "code",
     "collapsed": false,
     "input": [
      "cities = csv['city']\n",
      "csv.ix[(csv.city != \"BROOKLYN\") & (csv.city != \"BRONX\") & (csv.city != \"NEW YORK\") & (csv.city != \"STATEN ISLAND\"), 'city'] = \"QUEENS\"\n",
      "borough_count = csv['city'].value_counts()\n",
      "\n",
      "borough_pop = [1626159, 2592149, 2296175, 1418733, 472621]\n",
      "boroughs = pd.DataFrame({'noise_counts': borough_count, 'pop': borough_pop})\n",
      "boroughs['pop_percent'] = boroughs['noise_counts']/boroughs['pop']\n",
      "\n",
      "print boroughs"
     ],
     "language": "python",
     "metadata": {},
     "outputs": [
      {
       "output_type": "stream",
       "stream": "stdout",
       "text": [
        "               noise_counts      pop  pop_percent\n",
        "NEW YORK              73476  1626159     0.045184\n",
        "BROOKLYN              51807  2592149     0.019986\n",
        "QUEENS                24255  2296175     0.010563\n",
        "BRONX                 18408  1418733     0.012975\n",
        "STATEN ISLAND          3503   472621     0.007412\n",
        "\n",
        "[5 rows x 3 columns]\n"
       ]
      }
     ],
     "prompt_number": 144
    },
    {
     "cell_type": "heading",
     "level": 3,
     "metadata": {},
     "source": [
      "<hr>City that Never Sleeps"
     ]
    },
    {
     "cell_type": "heading",
     "level": 6,
     "metadata": {},
     "source": [
      "Where can you find the most wild parties in NYC?"
     ]
    },
    {
     "cell_type": "markdown",
     "metadata": {},
     "source": [
      "One of the most vital metrics provided by the 311 open data is the originating address, and zip code, of each noise complaint.\n",
      "\n",
      "Below we have compiles all noise complaints per zip code across seven years of data."
     ]
    },
    {
     "cell_type": "code",
     "collapsed": false,
     "input": [
      "zip_vc = csv['zip'].value_counts()\n",
      "print zip_vc.head(5)"
     ],
     "language": "python",
     "metadata": {},
     "outputs": [
      {
       "output_type": "stream",
       "stream": "stdout",
       "text": [
        "11211    5221\n",
        "10009    4766\n",
        "10002    4589\n",
        "10003    4086\n",
        "10034    3944\n",
        "dtype: int64\n"
       ]
      }
     ],
     "prompt_number": 5
    },
    {
     "cell_type": "markdown",
     "metadata": {},
     "source": [
      "So where exactly are these zip codes located? Google tells us the prize for most rowdy neighborhood throughout 2010 to 2014 goes to zip code 11211, otherwise known as... <b>Williamsburg</b>!\n",
      "\n",
      "Other hotspot runner-ups include the <b>East Village</b> (10009, 10003), the <b>Lower East Side</b> (10002), <b>Union Square and NoHo</b> (10003), and surprisingly, (to me at least), <b>Inwood</b> (10034)."
     ]
    },
    {
     "cell_type": "markdown",
     "metadata": {},
     "source": [
      "<hr>Certain hotspots that I had expected to make into the top five noisiest zip codes, namely within the Meatpacking District, were not included in our aggregate list above, so I took a closer look into the evolution of party places each year between 2010 and 2014."
     ]
    },
    {
     "cell_type": "code",
     "collapsed": false,
     "input": [
      "zip_year = csv[['date', 'zip']]\n",
      "zip_year.loc[:,'date'] = pd.to_datetime(zip_year.loc[:,'date'])"
     ],
     "language": "python",
     "metadata": {},
     "outputs": [
      {
       "output_type": "stream",
       "stream": "stderr",
       "text": [
        "C:\\Users\\Angel\\Anaconda\\lib\\site-packages\\pandas\\core\\indexing.py:346: SettingWithCopyWarning: A value is trying to be set on a copy of a slice from a DataFrame.\n",
        "Try using .loc[row_index,col_indexer] = value instead\n",
        "  self.obj[item] = s\n"
       ]
      }
     ],
     "prompt_number": 6
    },
    {
     "cell_type": "code",
     "collapsed": false,
     "input": [
      "zip_year.head()\n",
      "zip_year['year'] = [zip_year.date[i].year for i in range(zip_year['date'].count())]\n",
      "df = pd.DataFrame({'count' : zip_year.groupby(['year', 'zip']).size()}).reset_index()\n",
      "\n",
      "f = lambda x: x.sort('count', ascending=False)\n",
      "df2 = df.groupby('year').apply(f)\n",
      "df3 = df2.groupby('year').head().reset_index(drop=True)\n",
      "df3['rank'] = df3.groupby(['year'])['count'].rank()\n",
      "df4 = df3[(df3.year != 2008) & (df3.year !=2009)]\n",
      "df5 = df4.pivot(index = 'year', columns='rank', values='zip')\n"
     ],
     "language": "python",
     "metadata": {},
     "outputs": [
      {
       "html": [
        "<div style=\"max-height:1000px;max-width:1500px;overflow:auto;\">\n",
        "<table border=\"1\" class=\"dataframe\">\n",
        "  <thead>\n",
        "    <tr style=\"text-align: right;\">\n",
        "      <th>rank</th>\n",
        "      <th>1.0</th>\n",
        "      <th>2.0</th>\n",
        "      <th>3.0</th>\n",
        "      <th>4.0</th>\n",
        "      <th>5.0</th>\n",
        "    </tr>\n",
        "    <tr>\n",
        "      <th>year</th>\n",
        "      <th></th>\n",
        "      <th></th>\n",
        "      <th></th>\n",
        "      <th></th>\n",
        "      <th></th>\n",
        "    </tr>\n",
        "  </thead>\n",
        "  <tbody>\n",
        "    <tr>\n",
        "      <th>2010</th>\n",
        "      <td> 10014</td>\n",
        "      <td> 10002</td>\n",
        "      <td> 10003</td>\n",
        "      <td> 10009</td>\n",
        "      <td> 11211</td>\n",
        "    </tr>\n",
        "    <tr>\n",
        "      <th>2011</th>\n",
        "      <td> 10012</td>\n",
        "      <td> 10009</td>\n",
        "      <td> 10002</td>\n",
        "      <td> 10003</td>\n",
        "      <td> 11211</td>\n",
        "    </tr>\n",
        "    <tr>\n",
        "      <th>2012</th>\n",
        "      <td> 11226</td>\n",
        "      <td> 10003</td>\n",
        "      <td> 10009</td>\n",
        "      <td> 10002</td>\n",
        "      <td> 11211</td>\n",
        "    </tr>\n",
        "    <tr>\n",
        "      <th>2013</th>\n",
        "      <td> 10034</td>\n",
        "      <td> 11211</td>\n",
        "      <td> 10032</td>\n",
        "      <td> 10002</td>\n",
        "      <td> 10009</td>\n",
        "    </tr>\n",
        "    <tr>\n",
        "      <th>2014</th>\n",
        "      <td> 10033</td>\n",
        "      <td> 11211</td>\n",
        "      <td> 10040</td>\n",
        "      <td> 10032</td>\n",
        "      <td> 10034</td>\n",
        "    </tr>\n",
        "  </tbody>\n",
        "</table>\n",
        "<p>5 rows \u00d7 5 columns</p>\n",
        "</div>"
       ],
       "metadata": {},
       "output_type": "pyout",
       "prompt_number": 362,
       "text": [
        "rank      1      2      3      4      5\n",
        "year                                   \n",
        "2010  10014  10002  10003  10009  11211\n",
        "2011  10012  10009  10002  10003  11211\n",
        "2012  11226  10003  10009  10002  11211\n",
        "2013  10034  11211  10032  10002  10009\n",
        "2014  10033  11211  10040  10032  10034\n",
        "\n",
        "[5 rows x 5 columns]"
       ]
      }
     ],
     "prompt_number": 362
    },
    {
     "cell_type": "markdown",
     "metadata": {},
     "source": [
      "Sure enough, Meatpacking did make it into the top five list ... but only in the year 2010!\n",
      "\n",
      "\n",
      "In the below table, each zip code and the colloquial name of its corresponding neighborhood is provided. The usual suspects appear in the top five rankings below: Lower East Side, East Village, and Williamsburg top the charts almost every year in 2010 through 2013.\n",
      "\n",
      "Some surprising contenders include SoHo and Flatbush, who topped the list as the most noisiest party neighborhoods, in 2011 and 2012 respectively. \n",
      "\n",
      "As we end our year in 2014, we see a curious new trend emerging where the most loud parties, causing complaints, are predominantly in <b>Upper Manhattan</b>.\n",
      "<table align=\"left\" style=\"border:0; font-size:0.8em;\">\n",
      "<tr>\n",
      "<th>Year</th>\n",
      "<th>Rank 1</th>\n",
      "<th>Rank 2</th>\n",
      "<th>Rank 3</th>\n",
      "<th>Rank 4</th>\n",
      "<th>Rank 5</th>\n",
      "</tr>\n",
      "<tr>\n",
      "<th>2010</th>\n",
      "<td>Meatpacking District (10014)</td>\n",
      "<td>Lower East Side (10002)</td>\n",
      "<td>East Village, NoHo, Union Square (10003)</td>\n",
      "<td>East Village (10009)</td>\n",
      "<td>Williamsburg (11211)</td>\n",
      "</tr>\n",
      "<tr>\n",
      "<th>2011</th>\n",
      "<td>SoHo (10012)</td>\n",
      "<td>East Village (10009)</td>\n",
      "<td>Lower East Side (10002)</td>\n",
      "<td>East Village, NoHo, Union Square (10003)</td>\n",
      "<td>Williamsburg (11211)</td>\n",
      "</tr>\n",
      "<tr>\n",
      "<th>2012</th>\n",
      "<td>Flatbush (11226)</td>\n",
      "<td>East Village, NoHo, Union Square (10003)</td>\n",
      "<td>East Village (10009)</td>\n",
      "<td>Lower East Side (10002)</td>\n",
      "<td>Williamsburg (11211)</td>\n",
      "</tr>\n",
      "<tr>\n",
      "<th>2013</th>\n",
      "<td>Inwood (10034)</td>\n",
      "<td>Williamsburg (11211)</td>\n",
      "<td>Washington Heights (10032)</td>\n",
      "<td>Lower East Side (10002)</td>\n",
      "<td>East Village (10009)</td>\n",
      "</tr>\n",
      "<tr>\n",
      "<th>2014</th>\n",
      "<td>Washington Heights (10033)</td>\n",
      "<td>Williamsburg (11211)</td>\n",
      "<td>Fort George (10040)</td>\n",
      "<td>Washington Heights (10032)</td>\n",
      "<td>Inwood (10034)</td>\n",
      "</tr>\n",
      "</table>"
     ]
    },
    {
     "cell_type": "heading",
     "level": 2,
     "metadata": {},
     "source": [
      "<hr>\n",
      "If we know one thing for sure, it is that New Yorkers love to have a good time and complain about those having <i>too</i> good a time."
     ]
    }
   ],
   "metadata": {}
  }
 ]
}