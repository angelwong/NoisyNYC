{
 "metadata": {
  "name": "",
  "signature": "sha256:bf0601239755965ac5613b0c1cc56cd765d9bb8d281a00285f8d6ca82b8194ef"
 },
 "nbformat": 3,
 "nbformat_minor": 0,
 "worksheets": [
  {
   "cells": [
    {
     "cell_type": "heading",
     "level": 1,
     "metadata": {},
     "source": [
      "Noisy NYC"
     ]
    },
    {
     "cell_type": "heading",
     "level": 3,
     "metadata": {},
     "source": [
      "There's no place like New York City for nightlife, to the delight of the clubbing night-owl and to the chagrin of the sleeping local. "
     ]
    },
    {
     "cell_type": "markdown",
     "metadata": {},
     "source": [
      "NYC Open Data provides a wealth of information on all complaints to the 311 Service Requests line, including the date, time, location, and type of each \"Noise\" complaint, dating back from 2010 to November 2014. (*Dataset also included an insignficant number of data points from 2008 and 2009.)\n",
      "\n",
      "By further filtering this data for the \"Loud Music/Party\" descriptor, we extrapolated where the loudest parties were being thrown in the city. However, we should caution that any complaint of loud music, even if it's coming from a lone boombox on a porch stoop, may fall under this descriptor.\n",
      "\n",
      "That being said, with over 171000 noise complaints in this dataset, we can make certain assumptions about where and when New York City likes to gets turnt up."
     ]
    },
    {
     "cell_type": "heading",
     "level": 5,
     "metadata": {},
     "source": [
      "<hr>\n",
      "Before moving forward, let's take a cursory look at our dataset:"
     ]
    },
    {
     "cell_type": "code",
     "collapsed": false,
     "input": [
      "import pandas as pd\n",
      "import numpy as np\n",
      "import matplotlib.pyplot as plt\n",
      "%matplotlib inline\n",
      "\n",
      "csv = pd.read_csv('311_Service_Requests.csv')\n",
      "csv.columns = ['key', 'date', 'noise_type', 'descriptor', 'type', 'zip', 'city']\n",
      "\n",
      "#sample filtered dataset\n",
      "csv.head()"
     ],
     "language": "python",
     "metadata": {},
     "outputs": [
      {
       "html": [
        "<div style=\"max-height:1000px;max-width:1500px;overflow:auto;\">\n",
        "<table border=\"1\" class=\"dataframe\">\n",
        "  <thead>\n",
        "    <tr style=\"text-align: right;\">\n",
        "      <th></th>\n",
        "      <th>key</th>\n",
        "      <th>date</th>\n",
        "      <th>noise_type</th>\n",
        "      <th>descriptor</th>\n",
        "      <th>type</th>\n",
        "      <th>zip</th>\n",
        "      <th>city</th>\n",
        "    </tr>\n",
        "  </thead>\n",
        "  <tbody>\n",
        "    <tr>\n",
        "      <th>0</th>\n",
        "      <td> 29188820</td>\n",
        "      <td> 11/01/2014 02:16:30 AM</td>\n",
        "      <td> Noise - House of Worship</td>\n",
        "      <td> Loud Music/Party</td>\n",
        "      <td>    House of Worship</td>\n",
        "      <td> 11217</td>\n",
        "      <td> BROOKLYN</td>\n",
        "    </tr>\n",
        "    <tr>\n",
        "      <th>1</th>\n",
        "      <td> 29194657</td>\n",
        "      <td> 11/01/2014 02:15:39 AM</td>\n",
        "      <td>  Noise - Street/Sidewalk</td>\n",
        "      <td> Loud Music/Party</td>\n",
        "      <td>     Street/Sidewalk</td>\n",
        "      <td> 10451</td>\n",
        "      <td>    BRONX</td>\n",
        "    </tr>\n",
        "    <tr>\n",
        "      <th>2</th>\n",
        "      <td> 29190781</td>\n",
        "      <td> 11/01/2014 02:11:42 AM</td>\n",
        "      <td>       Noise - Commercial</td>\n",
        "      <td> Loud Music/Party</td>\n",
        "      <td> Club/Bar/Restaurant</td>\n",
        "      <td> 10024</td>\n",
        "      <td> NEW YORK</td>\n",
        "    </tr>\n",
        "    <tr>\n",
        "      <th>3</th>\n",
        "      <td> 29190760</td>\n",
        "      <td> 11/01/2014 02:09:07 AM</td>\n",
        "      <td> Noise - House of Worship</td>\n",
        "      <td> Loud Music/Party</td>\n",
        "      <td>    House of Worship</td>\n",
        "      <td> 11217</td>\n",
        "      <td> BROOKLYN</td>\n",
        "    </tr>\n",
        "    <tr>\n",
        "      <th>4</th>\n",
        "      <td> 29189785</td>\n",
        "      <td> 11/01/2014 02:06:51 AM</td>\n",
        "      <td>  Noise - Street/Sidewalk</td>\n",
        "      <td> Loud Music/Party</td>\n",
        "      <td>     Street/Sidewalk</td>\n",
        "      <td> 11220</td>\n",
        "      <td> BROOKLYN</td>\n",
        "    </tr>\n",
        "  </tbody>\n",
        "</table>\n",
        "<p>5 rows \u00d7 7 columns</p>\n",
        "</div>"
       ],
       "metadata": {},
       "output_type": "pyout",
       "prompt_number": 2,
       "text": [
        "        key                    date                noise_type  \\\n",
        "0  29188820  11/01/2014 02:16:30 AM  Noise - House of Worship   \n",
        "1  29194657  11/01/2014 02:15:39 AM   Noise - Street/Sidewalk   \n",
        "2  29190781  11/01/2014 02:11:42 AM        Noise - Commercial   \n",
        "3  29190760  11/01/2014 02:09:07 AM  Noise - House of Worship   \n",
        "4  29189785  11/01/2014 02:06:51 AM   Noise - Street/Sidewalk   \n",
        "\n",
        "         descriptor                 type    zip      city  \n",
        "0  Loud Music/Party     House of Worship  11217  BROOKLYN  \n",
        "1  Loud Music/Party      Street/Sidewalk  10451     BRONX  \n",
        "2  Loud Music/Party  Club/Bar/Restaurant  10024  NEW YORK  \n",
        "3  Loud Music/Party     House of Worship  11217  BROOKLYN  \n",
        "4  Loud Music/Party      Street/Sidewalk  11220  BROOKLYN  \n",
        "\n",
        "[5 rows x 7 columns]"
       ]
      }
     ],
     "prompt_number": 2
    },
    {
     "cell_type": "heading",
     "level": 4,
     "metadata": {},
     "source": [
      "Total Number of Complaints:"
     ]
    },
    {
     "cell_type": "code",
     "collapsed": false,
     "input": [
      "print \"Total Number of Noise Complaints: \" , csv.key.count()"
     ],
     "language": "python",
     "metadata": {},
     "outputs": [
      {
       "output_type": "stream",
       "stream": "stdout",
       "text": [
        "Total Number of Noise Complaints:  171449\n"
       ]
      }
     ],
     "prompt_number": 15
    },
    {
     "cell_type": "heading",
     "level": 4,
     "metadata": {},
     "source": [
      "Type of Loud Music/Party Complaints:"
     ]
    },
    {
     "cell_type": "code",
     "collapsed": false,
     "input": [
      "types = csv['type']\n",
      "s_types = pd.Series(types)\n",
      "types_vc = s_types.value_counts()\n",
      "types_vc"
     ],
     "language": "python",
     "metadata": {},
     "outputs": [
      {
       "metadata": {},
       "output_type": "pyout",
       "prompt_number": 25,
       "text": [
        "Club/Bar/Restaurant    73077\n",
        "Street/Sidewalk        61394\n",
        "Store/Commercial       22880\n",
        "Park/Playground         9782\n",
        "House of Worship        3603\n",
        "dtype: int64"
       ]
      }
     ],
     "prompt_number": 25
    },
    {
     "cell_type": "markdown",
     "metadata": {},
     "source": [
      "The majority of noise complaints originate from New York's many clubs, bars, and restaurants. Large, loud parties in residential houses as well as those that spill over from the actual party location, are encompassed within the \"Street/Sidewalk\" category."
     ]
    },
    {
     "cell_type": "heading",
     "level": 4,
     "metadata": {},
     "source": [
      "Variations per year:"
     ]
    },
    {
     "cell_type": "markdown",
     "metadata": {},
     "source": [
      "As alluded to before, the dataset spans from 2008 to 2014, but the number of complaints from 2008 and 2009 are too inconsequential to be representative of their years. The number of complaints increase over time, perhaps in part due to 311's efforts to bolster marketing and avenues of communication, as well as due to the growing NYC population and its healthy tourism economy. Complaints reach an overwhelming 47000 \"Loud Party\" complaints in 2014."
     ]
    },
    {
     "cell_type": "code",
     "collapsed": false,
     "input": [
      "date_time = csv['date']\n",
      "times = pd.to_datetime(date_time)\n",
      "\n",
      "years = [times[i].year for i in range(times.count())]\n",
      "s_years = pd.Series(years)\n",
      "years_vc = s_years.value_counts()\n",
      "years_vc = years_vc.sort_index()"
     ],
     "language": "python",
     "metadata": {},
     "outputs": [],
     "prompt_number": 3
    },
    {
     "cell_type": "code",
     "collapsed": false,
     "input": [
      "index = np.arange(7)\n",
      "fig, ax = plt.subplots()\n",
      "rects = plt.bar(index, years_vc.values)\n",
      "\n",
      "xticks_pos = [0.5*patch.get_width() + patch.get_xy()[0] for patch in rects]\n",
      "\n",
      "ax.set_title(\"Frequency of Noise Complaints by Year\")\n",
      "ax.set_xticks(xticks_pos)\n",
      "ax.set_xticklabels( ('2008','2009', '2010', '2011', '2012', '2013', '2014') )\n",
      "ax.set_ylabel('Frequency')\n",
      "ax.set_xlabel('Year')\n",
      "\n",
      "def autolabel(rects):\n",
      "    # attach some text labels\n",
      "    for rect in rects:\n",
      "        height = rect.get_height()\n",
      "        ax.text(rect.get_x()+rect.get_width()/2., height, '%d'%int(height),\n",
      "                ha='center', va='bottom')\n",
      "        \n",
      "autolabel(rects)\n",
      "plt.show()"
     ],
     "language": "python",
     "metadata": {},
     "outputs": [
      {
       "metadata": {},
       "output_type": "display_data",
       "png": "[encoded data removed]",
       "text": [
        "<matplotlib.figure.Figure at 0x161ecdd8>"
       ]
      }
     ],
     "prompt_number": 84
    },
    {
     "cell_type": "heading",
     "level": 3,
     "metadata": {},
     "source": [
      "<hr>Creatures of the Night"
     ]
    },
    {
     "cell_type": "heading",
     "level": 6,
     "metadata": {},
     "source": [
      "\n",
      "\n",
      "At what time of day are noise complaints most prevalent?"
     ]
    },
    {
     "cell_type": "markdown",
     "metadata": {},
     "source": [
      "The timestamps of each noise complaint were grouped by the hour during which they occurred in a 24-hour day. As expected, the noise complaints increase over the course of the day and surge during night time. Most noise complaints occurred between 10PM and 2AM, peaking at 11PM to 12AM. "
     ]
    },
    {
     "cell_type": "code",
     "collapsed": false,
     "input": [
      "hours = [times[i].hour for i in range(times.count())]\n",
      "s_hours = pd.Series(hours)\n",
      "hours_vc = s_hours.value_counts()\n",
      "print hours_vc.head()\n",
      "hours_vc = hours_vc.sort_index()"
     ],
     "language": "python",
     "metadata": {},
     "outputs": [
      {
       "output_type": "stream",
       "stream": "stdout",
       "text": [
        "23    24200\n",
        "0     20241\n",
        "22    19446\n",
        "1     16918\n",
        "21    13253\n",
        "dtype: int64\n"
       ]
      }
     ],
     "prompt_number": 28
    },
    {
     "cell_type": "code",
     "collapsed": false,
     "input": [
      "#plots hours by time of night\n",
      "index = np.arange(24)\n",
      "fig, ax = plt.subplots()\n",
      "rects = plt.bar(index, hours_vc.values)\n",
      "\n",
      "ax.set_title(\"Frequency of Noise Complaints by Time of Night\")\n",
      "ax.set_xticklabels( ('12AM', '5AM', '10AM', '3PM', '8PM', '12AM') )\n",
      "ax.set_ylabel('Frequency')\n",
      "ax.set_xlabel('Hour in the Day')\n",
      "plt.show()\n"
     ],
     "language": "python",
     "metadata": {},
     "outputs": [
      {
       "metadata": {},
       "output_type": "display_data",
       "png": "[encoded data removed]",
       "text": [
        "<matplotlib.figure.Figure at 0xd0a9ac8>"
       ]
      }
     ],
     "prompt_number": 7
    },
    {
     "cell_type": "heading",
     "level": 3,
     "metadata": {},
     "source": [
      "<hr>Working for the Weekend"
     ]
    },
    {
     "cell_type": "heading",
     "level": 6,
     "metadata": {},
     "source": [
      "On which day of the week are noise complaints most prevalent?"
     ]
    },
    {
     "cell_type": "markdown",
     "metadata": {},
     "source": [
      "This should come as no surprise, but New Yorkers party every day of the week and go particularly wild at the end of the workweek on Fridays and Saturdays."
     ]
    },
    {
     "cell_type": "code",
     "collapsed": false,
     "input": [
      "weekdays = [times[i].weekday() for i in range(times.count())]\n",
      "s_weekdays = pd.Series(weekdays)\n",
      "weekdays_vc = s_weekdays.value_counts().sort_index()\n",
      "\n",
      "index = np.arange(7)\n",
      "fig, ax = plt.subplots()\n",
      "rects = plt.bar(index, weekdays_vc.values)\n",
      "\n",
      "xticks_pos = [0.5*patch.get_width() + patch.get_xy()[0] for patch in rects]\n",
      "\n",
      "ax.set_title(\"Frequency of Noise Complaints by Day of Week\")\n",
      "ax.set_xticks(xticks_pos)\n",
      "ax.set_xticklabels( ('Sun','Mon', 'Tues', 'Wed', 'Thurs', 'Fri', 'Sat') )\n",
      "ax.set_ylabel('Frequency')\n",
      "ax.set_xlabel('Day of the Week')\n",
      "plt.show()\n"
     ],
     "language": "python",
     "metadata": {},
     "outputs": [
      {
       "metadata": {},
       "output_type": "display_data",
       "png": "[encoded data removed]",
       "text": [
        "<matplotlib.figure.Figure at 0x114f0ef0>"
       ]
      }
     ],
     "prompt_number": 73
    },
    {
     "cell_type": "heading",
     "level": 3,
     "metadata": {},
     "source": [
      "<hr>Those Lazy, Hazy, Crazy, Days of Summer"
     ]
    },
    {
     "cell_type": "markdown",
     "metadata": {},
     "source": [
      "The dataset reconfirms what we already know -- New Yorkers and tourists tend to hibernate during the cold winter months, with parties to celebrate the warm spring and summer months going at full speed throughout May to October. What strikes us as particularly curious is the drop in activity in July, perhaps as everyone leaves the city for summer vacation."
     ]
    },
    {
     "cell_type": "code",
     "collapsed": false,
     "input": [
      "months = [times[i].month for i in range(times.count())]\n",
      "s_months = pd.Series(months)\n",
      "months_vc = s_months.value_counts().sort_index()\n",
      "\n",
      "index = np.arange(12)\n",
      "fig, ax = plt.subplots()\n",
      "rects = plt.bar(index, months_vc.values)\n",
      "\n",
      "xticks_pos = [0.5*patch.get_width() + patch.get_xy()[0] for patch in rects]\n",
      "\n",
      "ax.set_title(\"Frequency of Noise Complaints by Month\")\n",
      "ax.set_xticks(xticks_pos)\n",
      "ax.set_xticklabels( ('Jan','Feb', 'Mar', 'Apr', 'May', 'Jun', 'Jul', 'Aug', 'Sep', 'Oct', 'Nov', 'Dec') )\n",
      "ax.set_ylabel('Frequency')\n",
      "ax.set_xlabel('Month')\n",
      "plt.show()\n"
     ],
     "language": "python",
     "metadata": {},
     "outputs": [
      {
       "metadata": {},
       "output_type": "display_data",
       "png": "[encoded data removed]",
       "text": [
        "<matplotlib.figure.Figure at 0x1098aa20>"
       ]
      }
     ],
     "prompt_number": 39
    },
    {
     "cell_type": "markdown",
     "metadata": {},
     "source": [
      "An initial theory we had for the July drop in complaints was that an outage at 311 may have led to a discrepancy in July metrics. However, when number of requests were calculated each month of every year, the same dip was observed in July every year."
     ]
    },
    {
     "cell_type": "code",
     "collapsed": false,
     "input": [
      "day_year = pd.DataFrame(s_months, columns=['months'])\n",
      "month_year['years'] = s_years\n",
      "\n",
      "month_year.groupby(['years', 'months']).count()['months'].unstack()"
     ],
     "language": "python",
     "metadata": {},
     "outputs": [
      {
       "html": [
        "<div style=\"max-height:1000px;max-width:1500px;overflow:auto;\">\n",
        "<table border=\"1\" class=\"dataframe\">\n",
        "  <thead>\n",
        "    <tr style=\"text-align: right;\">\n",
        "      <th>months</th>\n",
        "      <th>1</th>\n",
        "      <th>2</th>\n",
        "      <th>3</th>\n",
        "      <th>4</th>\n",
        "      <th>5</th>\n",
        "      <th>6</th>\n",
        "      <th>7</th>\n",
        "      <th>8</th>\n",
        "      <th>9</th>\n",
        "      <th>10</th>\n",
        "      <th>11</th>\n",
        "      <th>12</th>\n",
        "    </tr>\n",
        "    <tr>\n",
        "      <th>years</th>\n",
        "      <th></th>\n",
        "      <th></th>\n",
        "      <th></th>\n",
        "      <th></th>\n",
        "      <th></th>\n",
        "      <th></th>\n",
        "      <th></th>\n",
        "      <th></th>\n",
        "      <th></th>\n",
        "      <th></th>\n",
        "      <th></th>\n",
        "      <th></th>\n",
        "    </tr>\n",
        "  </thead>\n",
        "  <tbody>\n",
        "    <tr>\n",
        "      <th>2008</th>\n",
        "      <td>  NaN</td>\n",
        "      <td>  NaN</td>\n",
        "      <td>  NaN</td>\n",
        "      <td>  NaN</td>\n",
        "      <td>  NaN</td>\n",
        "      <td>  NaN</td>\n",
        "      <td>  NaN</td>\n",
        "      <td>    1</td>\n",
        "      <td>  NaN</td>\n",
        "      <td>  NaN</td>\n",
        "      <td>  NaN</td>\n",
        "      <td>  NaN</td>\n",
        "    </tr>\n",
        "    <tr>\n",
        "      <th>2009</th>\n",
        "      <td>  NaN</td>\n",
        "      <td>  NaN</td>\n",
        "      <td>  NaN</td>\n",
        "      <td>  NaN</td>\n",
        "      <td>  NaN</td>\n",
        "      <td>  NaN</td>\n",
        "      <td>  NaN</td>\n",
        "      <td>  NaN</td>\n",
        "      <td>  NaN</td>\n",
        "      <td>  NaN</td>\n",
        "      <td>  NaN</td>\n",
        "      <td>   19</td>\n",
        "    </tr>\n",
        "    <tr>\n",
        "      <th>2010</th>\n",
        "      <td> 1544</td>\n",
        "      <td> 1435</td>\n",
        "      <td> 1834</td>\n",
        "      <td> 2569</td>\n",
        "      <td> 3520</td>\n",
        "      <td> 2696</td>\n",
        "      <td> 2467</td>\n",
        "      <td> 3111</td>\n",
        "      <td> 3054</td>\n",
        "      <td> 2965</td>\n",
        "      <td> 1966</td>\n",
        "      <td> 1582</td>\n",
        "    </tr>\n",
        "    <tr>\n",
        "      <th>2011</th>\n",
        "      <td> 1354</td>\n",
        "      <td> 1343</td>\n",
        "      <td> 1709</td>\n",
        "      <td> 1908</td>\n",
        "      <td> 2776</td>\n",
        "      <td> 2767</td>\n",
        "      <td> 2429</td>\n",
        "      <td> 2241</td>\n",
        "      <td> 3152</td>\n",
        "      <td> 2626</td>\n",
        "      <td> 1877</td>\n",
        "      <td> 1893</td>\n",
        "    </tr>\n",
        "    <tr>\n",
        "      <th>2012</th>\n",
        "      <td> 1639</td>\n",
        "      <td> 1659</td>\n",
        "      <td> 2385</td>\n",
        "      <td> 2477</td>\n",
        "      <td> 3289</td>\n",
        "      <td> 3294</td>\n",
        "      <td> 3023</td>\n",
        "      <td> 3276</td>\n",
        "      <td> 3606</td>\n",
        "      <td> 2409</td>\n",
        "      <td> 1368</td>\n",
        "      <td> 1900</td>\n",
        "    </tr>\n",
        "    <tr>\n",
        "      <th>2013</th>\n",
        "      <td> 1736</td>\n",
        "      <td> 1720</td>\n",
        "      <td> 2195</td>\n",
        "      <td> 2804</td>\n",
        "      <td> 4023</td>\n",
        "      <td> 4654</td>\n",
        "      <td> 3455</td>\n",
        "      <td> 4979</td>\n",
        "      <td> 4517</td>\n",
        "      <td> 3739</td>\n",
        "      <td> 2926</td>\n",
        "      <td> 2467</td>\n",
        "    </tr>\n",
        "    <tr>\n",
        "      <th>2014</th>\n",
        "      <td> 2151</td>\n",
        "      <td> 1953</td>\n",
        "      <td> 2925</td>\n",
        "      <td> 3441</td>\n",
        "      <td> 6033</td>\n",
        "      <td> 7142</td>\n",
        "      <td> 5864</td>\n",
        "      <td> 6989</td>\n",
        "      <td> 5608</td>\n",
        "      <td> 4893</td>\n",
        "      <td>   72</td>\n",
        "      <td>  NaN</td>\n",
        "    </tr>\n",
        "  </tbody>\n",
        "</table>\n",
        "<p>7 rows \u00d7 12 columns</p>\n",
        "</div>"
       ],
       "metadata": {},
       "output_type": "pyout",
       "prompt_number": 75,
       "text": [
        "months    1     2     3     4     5     6     7     8     9     10    11    12\n",
        "years                                                                         \n",
        "2008     NaN   NaN   NaN   NaN   NaN   NaN   NaN     1   NaN   NaN   NaN   NaN\n",
        "2009     NaN   NaN   NaN   NaN   NaN   NaN   NaN   NaN   NaN   NaN   NaN    19\n",
        "2010    1544  1435  1834  2569  3520  2696  2467  3111  3054  2965  1966  1582\n",
        "2011    1354  1343  1709  1908  2776  2767  2429  2241  3152  2626  1877  1893\n",
        "2012    1639  1659  2385  2477  3289  3294  3023  3276  3606  2409  1368  1900\n",
        "2013    1736  1720  2195  2804  4023  4654  3455  4979  4517  3739  2926  2467\n",
        "2014    2151  1953  2925  3441  6033  7142  5864  6989  5608  4893    72   NaN\n",
        "\n",
        "[7 rows x 12 columns]"
       ]
      }
     ],
     "prompt_number": 75
    },
    {
     "cell_type": "heading",
     "level": 5,
     "metadata": {},
     "source": [
      "<hr>What is the most festive day of the year?"
     ]
    },
    {
     "cell_type": "markdown",
     "metadata": {},
     "source": [
      "Noise complaints were aggregated to find which dates recieved the most noise complaints in the history of 311's service requests and which days hold the most festively loud parties each year. (If you like quiet, stay at home on these days!) \n",
      "\n",
      "As evident in our discovery above, most of the festive days of the year are in the summer months. The most noisy day of the year just so happens to be a certain author's latest birthday..."
     ]
    },
    {
     "cell_type": "code",
     "collapsed": false,
     "input": [
      "days = [times[i].date() for i in range(times.count())]\n",
      "s_days = pd.Series(days)\n",
      "days_vc = s_days.value_counts()\n",
      "\n",
      "print days_vc.head()"
     ],
     "language": "python",
     "metadata": {},
     "outputs": [
      {
       "output_type": "stream",
       "stream": "stdout",
       "text": [
        "2014-08-16    546\n",
        "2014-06-21    539\n",
        "2014-05-25    535\n",
        "2014-06-15    526\n",
        "2014-05-26    519\n",
        "dtype: int64\n"
       ]
      }
     ],
     "prompt_number": 27
    },
    {
     "cell_type": "code",
     "collapsed": false,
     "input": [
      "import datetime\n",
      "\n",
      "days = [datetime.date(2000, days[i].month, days[i].day).strftime(\"%B %d\") for i in range(times.count())]\n",
      "s_days = pd.Series(days)\n",
      "days_vc = s_days.value_counts()\n",
      "\n",
      "print days_vc.head()"
     ],
     "language": "python",
     "metadata": {},
     "outputs": [
      {
       "output_type": "stream",
       "stream": "stdout",
       "text": [
        "June 21      1292\n",
        "June 15      1159\n",
        "May 26       1056\n",
        "August 24    1001\n",
        "June 16      1000\n",
        "dtype: int64\n"
       ]
      }
     ],
     "prompt_number": 29
    },
    {
     "cell_type": "heading",
     "level": 3,
     "metadata": {},
     "source": [
      "<hr>\n",
      "To The Five Boroughs"
     ]
    },
    {
     "cell_type": "markdown",
     "metadata": {},
     "source": [
      "Next, let's explore the location columns in our dataset! The top party borough should come as no surprise -- Manhattan tops the list, followed by Brooklyn, Queens, Bronx, and lastly the mostly residential Staten Island.\n",
      "\n",
      "In the table below, we compare the number of noise complaints per borough to the population actually living in that borough. Of course, Manhattan's noise complaints shows a disproportionate number of noise complaints, which are skewed by the weekend onslaught of party animals from the outer boroughs and from out-of-town that flood into Manhattan to party."
     ]
    },
    {
     "cell_type": "code",
     "collapsed": false,
     "input": [
      "# what is the noisiest borough?\n",
      "cities = csv['city']\n",
      "csv.ix[(csv.city != \"BROOKLYN\") & (csv.city != \"BRONX\") & (csv.city != \"NEW YORK\") & (csv.city != \"STATEN ISLAND\"), 'city'] = \"QUEENS\"\n",
      "borough_count = csv['city'].value_counts()\n",
      "\n",
      "borough_pop = [1626159, 2592149, 2296175, 1418733, 472621]\n",
      "boroughs = pd.DataFrame({'noise_counts': borough_count, 'pop': borough_pop})\n",
      "boroughs['pop_percent'] = boroughs['noise_counts']/boroughs['pop']\n",
      "\n",
      "print boroughs"
     ],
     "language": "python",
     "metadata": {},
     "outputs": [
      {
       "output_type": "stream",
       "stream": "stdout",
       "text": [
        "               noise_counts      pop  pop_percent\n",
        "NEW YORK              73476  1626159     0.045184\n",
        "BROOKLYN              51807  2592149     0.019986\n",
        "QUEENS                24255  2296175     0.010563\n",
        "BRONX                 18408  1418733     0.012975\n",
        "STATEN ISLAND          3503   472621     0.007412\n",
        "\n",
        "[5 rows x 3 columns]\n"
       ]
      }
     ],
     "prompt_number": 149
    },
    {
     "cell_type": "code",
     "collapsed": false,
     "input": [
      "sum = boroughs.noise_counts.values.sum()\n",
      "norm = boroughs.noise_counts.values / float(sum)\n",
      "\n",
      "labels = 'Manhattan', 'Brooklyn', 'Queens', 'Bronx', 'Staten Island'\n",
      "sizes = norm * 100\n",
      "colors = ['yellowgreen', 'gold', 'lightskyblue', 'lightcoral', 'orange']\n",
      "explode = (0, 0, 0, 0, 0) # only \"explode\" the 2nd slice (i.e. 'Hogs')\n",
      "\n",
      "plt.pie(sizes, explode=explode, labels=labels, colors=colors, autopct='%1.1f%%', shadow=True, startangle=45)\n",
      "# Set aspect ratio to be equal so that pie is drawn as a circle.\n",
      "plt.axis('equal')\n",
      "plt.title('% of Complaints per Borough')\n",
      "\n",
      "plt.show()\n",
      "\n",
      "\n"
     ],
     "language": "python",
     "metadata": {},
     "outputs": [
      {
       "metadata": {},
       "output_type": "display_data",
       "png": "[encoded data removed]",
       "text": [
        "<matplotlib.figure.Figure at 0x103fa748>"
       ]
      }
     ],
     "prompt_number": 171
    },
    {
     "cell_type": "heading",
     "level": 3,
     "metadata": {},
     "source": [
      "<hr>City that Never Sleeps"
     ]
    },
    {
     "cell_type": "heading",
     "level": 6,
     "metadata": {},
     "source": [
      "Where can you find the most wild parties in NYC?"
     ]
    },
    {
     "cell_type": "markdown",
     "metadata": {},
     "source": [
      "Some of the most insightful data provided by the 311 open data is the originating address, and zip code, of each noise complaint. We can use this data to figure out which are the most party-hardy zip codes in New York City. Not all zip codes were born equal though. Zip codes come in varying shape and sizes and while one zip coded can encompass 2 square miles, an adjacent zip code, like 10119 by Penn Station, may only cover two city blocks.\n",
      "\n",
      "Below we have compiled all noise complaints per zip code across seven years of data."
     ]
    },
    {
     "cell_type": "code",
     "collapsed": false,
     "input": [
      "zip_vc = csv['zip'].value_counts()\n",
      "print zip_vc.head(5)"
     ],
     "language": "python",
     "metadata": {},
     "outputs": [
      {
       "output_type": "stream",
       "stream": "stdout",
       "text": [
        "11211    5221\n",
        "10009    4766\n",
        "10002    4589\n",
        "10003    4086\n",
        "10034    3944\n",
        "dtype: int64\n"
       ]
      }
     ],
     "prompt_number": 172
    },
    {
     "cell_type": "markdown",
     "metadata": {},
     "source": [
      "So where exactly are the most party-wild zip codes located? Google tells us the prize for most rowdy neighborhood throughout 2010 to 2014 goes to zip code 11211, otherwise known as... <b>Williamsburg</b>!\n",
      "\n",
      "Other hotspot runner-ups include the <b>East Village</b> (10009, 10003), the <b>Lower East Side</b> (10002), <b>Union Square and NoHo</b> (10003), and surprisingly, (to me at least), <b>Inwood</b> (10034)."
     ]
    },
    {
     "cell_type": "markdown",
     "metadata": {},
     "source": [
      "<hr>Certain hotspots that were expected to make into the top five noisiest zip codes, namely within the Meatpacking District, did not even make it into the top 10, so we decided to take a closer look into the evolution of party places each year between 2010 to 2014."
     ]
    },
    {
     "cell_type": "code",
     "collapsed": false,
     "input": [
      "zip_year = csv[['date', 'zip']]\n",
      "zip_year.loc[:,'date'] = pd.to_datetime(zip_year.loc[:,'date'])"
     ],
     "language": "python",
     "metadata": {},
     "outputs": [],
     "prompt_number": 173
    },
    {
     "cell_type": "code",
     "collapsed": false,
     "input": [
      "zip_year.head()\n",
      "zip_year['year'] = [zip_year.date[i].year for i in range(zip_year['date'].count())]\n",
      "df = pd.DataFrame({'count' : zip_year.groupby(['year', 'zip']).size()}).reset_index()\n",
      "\n",
      "f = lambda x: x.sort('count', ascending=False)\n",
      "df2 = df.groupby('year').apply(f)\n",
      "df3 = df2.groupby('year').head(5).reset_index(drop=True)\n",
      "df3['rank'] = df3.groupby(['year'])['count'].rank()\n",
      "df4 = df3[(df3.year != 2008) & (df3.year !=2009)]\n",
      "df5 = df4.pivot(index = 'year', columns='rank', values='zip')\n",
      "\n",
      "df5"
     ],
     "language": "python",
     "metadata": {},
     "outputs": [
      {
       "html": [
        "<div style=\"max-height:1000px;max-width:1500px;overflow:auto;\">\n",
        "<table border=\"1\" class=\"dataframe\">\n",
        "  <thead>\n",
        "    <tr style=\"text-align: right;\">\n",
        "      <th>rank</th>\n",
        "      <th>1.0</th>\n",
        "      <th>2.0</th>\n",
        "      <th>3.0</th>\n",
        "      <th>4.0</th>\n",
        "      <th>5.0</th>\n",
        "    </tr>\n",
        "    <tr>\n",
        "      <th>year</th>\n",
        "      <th></th>\n",
        "      <th></th>\n",
        "      <th></th>\n",
        "      <th></th>\n",
        "      <th></th>\n",
        "    </tr>\n",
        "  </thead>\n",
        "  <tbody>\n",
        "    <tr>\n",
        "      <th>2010</th>\n",
        "      <td> 10014</td>\n",
        "      <td> 10002</td>\n",
        "      <td> 10003</td>\n",
        "      <td> 10009</td>\n",
        "      <td> 11211</td>\n",
        "    </tr>\n",
        "    <tr>\n",
        "      <th>2011</th>\n",
        "      <td> 10012</td>\n",
        "      <td> 10009</td>\n",
        "      <td> 10002</td>\n",
        "      <td> 10003</td>\n",
        "      <td> 11211</td>\n",
        "    </tr>\n",
        "    <tr>\n",
        "      <th>2012</th>\n",
        "      <td> 11226</td>\n",
        "      <td> 10003</td>\n",
        "      <td> 10009</td>\n",
        "      <td> 10002</td>\n",
        "      <td> 11211</td>\n",
        "    </tr>\n",
        "    <tr>\n",
        "      <th>2013</th>\n",
        "      <td> 10034</td>\n",
        "      <td> 11211</td>\n",
        "      <td> 10032</td>\n",
        "      <td> 10002</td>\n",
        "      <td> 10009</td>\n",
        "    </tr>\n",
        "    <tr>\n",
        "      <th>2014</th>\n",
        "      <td> 10033</td>\n",
        "      <td> 11211</td>\n",
        "      <td> 10040</td>\n",
        "      <td> 10032</td>\n",
        "      <td> 10034</td>\n",
        "    </tr>\n",
        "  </tbody>\n",
        "</table>\n",
        "<p>5 rows \u00d7 5 columns</p>\n",
        "</div>"
       ],
       "metadata": {},
       "output_type": "pyout",
       "prompt_number": 80,
       "text": [
        "rank      1      2      3      4      5\n",
        "year                                   \n",
        "2010  10014  10002  10003  10009  11211\n",
        "2011  10012  10009  10002  10003  11211\n",
        "2012  11226  10003  10009  10002  11211\n",
        "2013  10034  11211  10032  10002  10009\n",
        "2014  10033  11211  10040  10032  10034\n",
        "\n",
        "[5 rows x 5 columns]"
       ]
      }
     ],
     "prompt_number": 80
    },
    {
     "cell_type": "markdown",
     "metadata": {},
     "source": [
      "Sure enough, Meatpacking did make it into the top five list ... but only in the year 2010!\n",
      "\n",
      "\n",
      "In the below table, each zip code and the colloquial name of its corresponding neighborhood is provided. The usual suspects appear in the top five rankings below: Lower East Side, East Village, and Williamsburg top the charts almost every year in 2010 through 2013.\n",
      "\n",
      "Some surprising contenders include SoHo and Flatbush, who topped the list as the most noisiest party neighborhoods, in 2011 and 2012 respectively. \n",
      "\n",
      "As we end our year in 2014, we see a curious new trend emerging where the most complaint-inducing loud parties and music are predominantly in <b>Upper Manhattan</b>.\n",
      "<table align=\"left\" style=\"border:0; font-size:0.8em;\">\n",
      "<tr>\n",
      "<th>Year</th>\n",
      "<th>Rank 1</th>\n",
      "<th>Rank 2</th>\n",
      "<th>Rank 3</th>\n",
      "<th>Rank 4</th>\n",
      "<th>Rank 5</th>\n",
      "</tr>\n",
      "<tr>\n",
      "<th>2010</th>\n",
      "<td>Meatpacking District (10014)</td>\n",
      "<td>Lower East Side (10002)</td>\n",
      "<td>East Village, NoHo, Union Square (10003)</td>\n",
      "<td>East Village (10009)</td>\n",
      "<td>Williamsburg (11211)</td>\n",
      "</tr>\n",
      "<tr>\n",
      "<th>2011</th>\n",
      "<td>SoHo (10012)</td>\n",
      "<td>East Village (10009)</td>\n",
      "<td>Lower East Side (10002)</td>\n",
      "<td>East Village, NoHo, Union Square (10003)</td>\n",
      "<td>Williamsburg (11211)</td>\n",
      "</tr>\n",
      "<tr>\n",
      "<th>2012</th>\n",
      "<td>Flatbush (11226)</td>\n",
      "<td>East Village, NoHo, Union Square (10003)</td>\n",
      "<td>East Village (10009)</td>\n",
      "<td>Lower East Side (10002)</td>\n",
      "<td>Williamsburg (11211)</td>\n",
      "</tr>\n",
      "<tr>\n",
      "<th>2013</th>\n",
      "<td>Inwood (10034)</td>\n",
      "<td>Williamsburg (11211)</td>\n",
      "<td>Washington Heights (10032)</td>\n",
      "<td>Lower East Side (10002)</td>\n",
      "<td>East Village (10009)</td>\n",
      "</tr>\n",
      "<tr>\n",
      "<th>2014</th>\n",
      "<td>Washington Heights (10033)</td>\n",
      "<td>Williamsburg (11211)</td>\n",
      "<td>Fort George (10040)</td>\n",
      "<td>Washington Heights (10032)</td>\n",
      "<td>Inwood (10034)</td>\n",
      "</tr>\n",
      "</table>"
     ]
    },
    {
     "cell_type": "code",
     "collapsed": false,
     "input": [],
     "language": "python",
     "metadata": {},
     "outputs": []
    }
   ],
   "metadata": {}
  }
 ]
}